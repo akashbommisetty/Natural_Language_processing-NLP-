{
 "cells": [
  {
   "cell_type": "code",
   "execution_count": 1,
   "id": "855a7ec3",
   "metadata": {
    "_cell_guid": "b1076dfc-b9ad-4769-8c92-a6c4dae69d19",
    "_uuid": "8f2839f25d086af736a60e9eeb907d3b93b6e0e5",
    "execution": {
     "iopub.execute_input": "2024-02-28T13:25:05.795310Z",
     "iopub.status.busy": "2024-02-28T13:25:05.794571Z",
     "iopub.status.idle": "2024-02-28T13:25:06.737533Z",
     "shell.execute_reply": "2024-02-28T13:25:06.736387Z"
    },
    "papermill": {
     "duration": 0.959535,
     "end_time": "2024-02-28T13:25:06.740325",
     "exception": false,
     "start_time": "2024-02-28T13:25:05.780790",
     "status": "completed"
    },
    "tags": []
   },
   "outputs": [
    {
     "name": "stdout",
     "output_type": "stream",
     "text": [
      "/kaggle/input/fake-news-prediction/train.csv/train.csv\n",
      "/kaggle/input/fake-news-prediction/test.csv/test.csv\n"
     ]
    }
   ],
   "source": [
    "# This Python 3 environment comes with many helpful analytics libraries installed\n",
    "# It is defined by the kaggle/python Docker image: https://github.com/kaggle/docker-python\n",
    "# For example, here's several helpful packages to load\n",
    "\n",
    "import numpy as np # linear algebra\n",
    "import pandas as pd # data processing, CSV file I/O (e.g. pd.read_csv)\n",
    "\n",
    "# Input data files are available in the read-only \"../input/\" directory\n",
    "# For example, running this (by clicking run or pressing Shift+Enter) will list all files under the input directory\n",
    "\n",
    "import os\n",
    "for dirname, _, filenames in os.walk('/kaggle/input'):\n",
    "    for filename in filenames:\n",
    "        print(os.path.join(dirname, filename))\n",
    "\n",
    "# You can write up to 20GB to the current directory (/kaggle/working/) that gets preserved as output when you create a version using \"Save & Run All\" \n",
    "# You can also write temporary files to /kaggle/temp/, but they won't be saved outside of the current session"
   ]
  },
  {
   "cell_type": "code",
   "execution_count": 2,
   "id": "045b8c9c",
   "metadata": {
    "execution": {
     "iopub.execute_input": "2024-02-28T13:25:06.763910Z",
     "iopub.status.busy": "2024-02-28T13:25:06.762757Z",
     "iopub.status.idle": "2024-02-28T13:25:08.848438Z",
     "shell.execute_reply": "2024-02-28T13:25:08.847548Z"
    },
    "papermill": {
     "duration": 2.10002,
     "end_time": "2024-02-28T13:25:08.851021",
     "exception": false,
     "start_time": "2024-02-28T13:25:06.751001",
     "status": "completed"
    },
    "tags": []
   },
   "outputs": [],
   "source": [
    "import pandas as pd\n",
    "import numpy as np\n",
    "import re\n",
    "import nltk\n",
    "from nltk.stem.porter import PorterStemmer\n",
    "from nltk.corpus import stopwords\n",
    "from sklearn.feature_extraction.text import TfidfVectorizer\n",
    "from sklearn.model_selection import train_test_split\n",
    "from sklearn.linear_model import LogisticRegression\n",
    "from sklearn.metrics import accuracy_score"
   ]
  },
  {
   "cell_type": "code",
   "execution_count": 3,
   "id": "8b4f7dbc",
   "metadata": {
    "execution": {
     "iopub.execute_input": "2024-02-28T13:25:08.875226Z",
     "iopub.status.busy": "2024-02-28T13:25:08.874258Z",
     "iopub.status.idle": "2024-02-28T13:25:11.789468Z",
     "shell.execute_reply": "2024-02-28T13:25:11.788498Z"
    },
    "papermill": {
     "duration": 2.929557,
     "end_time": "2024-02-28T13:25:11.792356",
     "exception": false,
     "start_time": "2024-02-28T13:25:08.862799",
     "status": "completed"
    },
    "tags": []
   },
   "outputs": [],
   "source": [
    "data=pd.read_csv(\"/kaggle/input/fake-news-prediction/train.csv/train.csv\")"
   ]
  },
  {
   "cell_type": "code",
   "execution_count": 4,
   "id": "673a30d3",
   "metadata": {
    "execution": {
     "iopub.execute_input": "2024-02-28T13:25:11.818557Z",
     "iopub.status.busy": "2024-02-28T13:25:11.818148Z",
     "iopub.status.idle": "2024-02-28T13:25:11.840222Z",
     "shell.execute_reply": "2024-02-28T13:25:11.839306Z"
    },
    "papermill": {
     "duration": 0.037363,
     "end_time": "2024-02-28T13:25:11.842546",
     "exception": false,
     "start_time": "2024-02-28T13:25:11.805183",
     "status": "completed"
    },
    "tags": []
   },
   "outputs": [
    {
     "data": {
      "text/html": [
       "<div>\n",
       "<style scoped>\n",
       "    .dataframe tbody tr th:only-of-type {\n",
       "        vertical-align: middle;\n",
       "    }\n",
       "\n",
       "    .dataframe tbody tr th {\n",
       "        vertical-align: top;\n",
       "    }\n",
       "\n",
       "    .dataframe thead th {\n",
       "        text-align: right;\n",
       "    }\n",
       "</style>\n",
       "<table border=\"1\" class=\"dataframe\">\n",
       "  <thead>\n",
       "    <tr style=\"text-align: right;\">\n",
       "      <th></th>\n",
       "      <th>id</th>\n",
       "      <th>title</th>\n",
       "      <th>author</th>\n",
       "      <th>text</th>\n",
       "      <th>label</th>\n",
       "    </tr>\n",
       "  </thead>\n",
       "  <tbody>\n",
       "    <tr>\n",
       "      <th>0</th>\n",
       "      <td>0</td>\n",
       "      <td>House Dem Aide: We Didn’t Even See Comey’s Let...</td>\n",
       "      <td>Darrell Lucus</td>\n",
       "      <td>House Dem Aide: We Didn’t Even See Comey’s Let...</td>\n",
       "      <td>1</td>\n",
       "    </tr>\n",
       "    <tr>\n",
       "      <th>1</th>\n",
       "      <td>1</td>\n",
       "      <td>FLYNN: Hillary Clinton, Big Woman on Campus - ...</td>\n",
       "      <td>Daniel J. Flynn</td>\n",
       "      <td>Ever get the feeling your life circles the rou...</td>\n",
       "      <td>0</td>\n",
       "    </tr>\n",
       "    <tr>\n",
       "      <th>2</th>\n",
       "      <td>2</td>\n",
       "      <td>Why the Truth Might Get You Fired</td>\n",
       "      <td>Consortiumnews.com</td>\n",
       "      <td>Why the Truth Might Get You Fired October 29, ...</td>\n",
       "      <td>1</td>\n",
       "    </tr>\n",
       "    <tr>\n",
       "      <th>3</th>\n",
       "      <td>3</td>\n",
       "      <td>15 Civilians Killed In Single US Airstrike Hav...</td>\n",
       "      <td>Jessica Purkiss</td>\n",
       "      <td>Videos 15 Civilians Killed In Single US Airstr...</td>\n",
       "      <td>1</td>\n",
       "    </tr>\n",
       "    <tr>\n",
       "      <th>4</th>\n",
       "      <td>4</td>\n",
       "      <td>Iranian woman jailed for fictional unpublished...</td>\n",
       "      <td>Howard Portnoy</td>\n",
       "      <td>Print \\nAn Iranian woman has been sentenced to...</td>\n",
       "      <td>1</td>\n",
       "    </tr>\n",
       "  </tbody>\n",
       "</table>\n",
       "</div>"
      ],
      "text/plain": [
       "   id                                              title              author  \\\n",
       "0   0  House Dem Aide: We Didn’t Even See Comey’s Let...       Darrell Lucus   \n",
       "1   1  FLYNN: Hillary Clinton, Big Woman on Campus - ...     Daniel J. Flynn   \n",
       "2   2                  Why the Truth Might Get You Fired  Consortiumnews.com   \n",
       "3   3  15 Civilians Killed In Single US Airstrike Hav...     Jessica Purkiss   \n",
       "4   4  Iranian woman jailed for fictional unpublished...      Howard Portnoy   \n",
       "\n",
       "                                                text  label  \n",
       "0  House Dem Aide: We Didn’t Even See Comey’s Let...      1  \n",
       "1  Ever get the feeling your life circles the rou...      0  \n",
       "2  Why the Truth Might Get You Fired October 29, ...      1  \n",
       "3  Videos 15 Civilians Killed In Single US Airstr...      1  \n",
       "4  Print \\nAn Iranian woman has been sentenced to...      1  "
      ]
     },
     "execution_count": 4,
     "metadata": {},
     "output_type": "execute_result"
    }
   ],
   "source": [
    "data.head()"
   ]
  },
  {
   "cell_type": "code",
   "execution_count": 5,
   "id": "fdd4c35a",
   "metadata": {
    "execution": {
     "iopub.execute_input": "2024-02-28T13:25:11.865666Z",
     "iopub.status.busy": "2024-02-28T13:25:11.865265Z",
     "iopub.status.idle": "2024-02-28T13:25:11.877832Z",
     "shell.execute_reply": "2024-02-28T13:25:11.876662Z"
    },
    "papermill": {
     "duration": 0.027558,
     "end_time": "2024-02-28T13:25:11.880853",
     "exception": false,
     "start_time": "2024-02-28T13:25:11.853295",
     "status": "completed"
    },
    "tags": []
   },
   "outputs": [
    {
     "data": {
      "text/html": [
       "<div>\n",
       "<style scoped>\n",
       "    .dataframe tbody tr th:only-of-type {\n",
       "        vertical-align: middle;\n",
       "    }\n",
       "\n",
       "    .dataframe tbody tr th {\n",
       "        vertical-align: top;\n",
       "    }\n",
       "\n",
       "    .dataframe thead th {\n",
       "        text-align: right;\n",
       "    }\n",
       "</style>\n",
       "<table border=\"1\" class=\"dataframe\">\n",
       "  <thead>\n",
       "    <tr style=\"text-align: right;\">\n",
       "      <th></th>\n",
       "      <th>id</th>\n",
       "      <th>title</th>\n",
       "      <th>author</th>\n",
       "      <th>text</th>\n",
       "      <th>label</th>\n",
       "    </tr>\n",
       "  </thead>\n",
       "  <tbody>\n",
       "    <tr>\n",
       "      <th>20795</th>\n",
       "      <td>20795</td>\n",
       "      <td>Rapper T.I.: Trump a ’Poster Child For White S...</td>\n",
       "      <td>Jerome Hudson</td>\n",
       "      <td>Rapper T. I. unloaded on black celebrities who...</td>\n",
       "      <td>0</td>\n",
       "    </tr>\n",
       "    <tr>\n",
       "      <th>20796</th>\n",
       "      <td>20796</td>\n",
       "      <td>N.F.L. Playoffs: Schedule, Matchups and Odds -...</td>\n",
       "      <td>Benjamin Hoffman</td>\n",
       "      <td>When the Green Bay Packers lost to the Washing...</td>\n",
       "      <td>0</td>\n",
       "    </tr>\n",
       "    <tr>\n",
       "      <th>20797</th>\n",
       "      <td>20797</td>\n",
       "      <td>Macy’s Is Said to Receive Takeover Approach by...</td>\n",
       "      <td>Michael J. de la Merced and Rachel Abrams</td>\n",
       "      <td>The Macy’s of today grew from the union of sev...</td>\n",
       "      <td>0</td>\n",
       "    </tr>\n",
       "    <tr>\n",
       "      <th>20798</th>\n",
       "      <td>20798</td>\n",
       "      <td>NATO, Russia To Hold Parallel Exercises In Bal...</td>\n",
       "      <td>Alex Ansary</td>\n",
       "      <td>NATO, Russia To Hold Parallel Exercises In Bal...</td>\n",
       "      <td>1</td>\n",
       "    </tr>\n",
       "    <tr>\n",
       "      <th>20799</th>\n",
       "      <td>20799</td>\n",
       "      <td>What Keeps the F-35 Alive</td>\n",
       "      <td>David Swanson</td>\n",
       "      <td>David Swanson is an author, activist, journa...</td>\n",
       "      <td>1</td>\n",
       "    </tr>\n",
       "  </tbody>\n",
       "</table>\n",
       "</div>"
      ],
      "text/plain": [
       "          id                                              title  \\\n",
       "20795  20795  Rapper T.I.: Trump a ’Poster Child For White S...   \n",
       "20796  20796  N.F.L. Playoffs: Schedule, Matchups and Odds -...   \n",
       "20797  20797  Macy’s Is Said to Receive Takeover Approach by...   \n",
       "20798  20798  NATO, Russia To Hold Parallel Exercises In Bal...   \n",
       "20799  20799                          What Keeps the F-35 Alive   \n",
       "\n",
       "                                          author  \\\n",
       "20795                              Jerome Hudson   \n",
       "20796                           Benjamin Hoffman   \n",
       "20797  Michael J. de la Merced and Rachel Abrams   \n",
       "20798                                Alex Ansary   \n",
       "20799                              David Swanson   \n",
       "\n",
       "                                                    text  label  \n",
       "20795  Rapper T. I. unloaded on black celebrities who...      0  \n",
       "20796  When the Green Bay Packers lost to the Washing...      0  \n",
       "20797  The Macy’s of today grew from the union of sev...      0  \n",
       "20798  NATO, Russia To Hold Parallel Exercises In Bal...      1  \n",
       "20799    David Swanson is an author, activist, journa...      1  "
      ]
     },
     "execution_count": 5,
     "metadata": {},
     "output_type": "execute_result"
    }
   ],
   "source": [
    "data.tail()"
   ]
  },
  {
   "cell_type": "code",
   "execution_count": 6,
   "id": "8729bb18",
   "metadata": {
    "execution": {
     "iopub.execute_input": "2024-02-28T13:25:11.905132Z",
     "iopub.status.busy": "2024-02-28T13:25:11.904736Z",
     "iopub.status.idle": "2024-02-28T13:25:11.939024Z",
     "shell.execute_reply": "2024-02-28T13:25:11.937893Z"
    },
    "papermill": {
     "duration": 0.049499,
     "end_time": "2024-02-28T13:25:11.941996",
     "exception": false,
     "start_time": "2024-02-28T13:25:11.892497",
     "status": "completed"
    },
    "tags": []
   },
   "outputs": [
    {
     "name": "stdout",
     "output_type": "stream",
     "text": [
      "<class 'pandas.core.frame.DataFrame'>\n",
      "RangeIndex: 20800 entries, 0 to 20799\n",
      "Data columns (total 5 columns):\n",
      " #   Column  Non-Null Count  Dtype \n",
      "---  ------  --------------  ----- \n",
      " 0   id      20800 non-null  int64 \n",
      " 1   title   20242 non-null  object\n",
      " 2   author  18843 non-null  object\n",
      " 3   text    20761 non-null  object\n",
      " 4   label   20800 non-null  int64 \n",
      "dtypes: int64(2), object(3)\n",
      "memory usage: 812.6+ KB\n"
     ]
    }
   ],
   "source": [
    "data.info()"
   ]
  },
  {
   "cell_type": "code",
   "execution_count": 7,
   "id": "f5e906cf",
   "metadata": {
    "execution": {
     "iopub.execute_input": "2024-02-28T13:25:11.967347Z",
     "iopub.status.busy": "2024-02-28T13:25:11.966969Z",
     "iopub.status.idle": "2024-02-28T13:25:11.984736Z",
     "shell.execute_reply": "2024-02-28T13:25:11.983589Z"
    },
    "papermill": {
     "duration": 0.033487,
     "end_time": "2024-02-28T13:25:11.987085",
     "exception": false,
     "start_time": "2024-02-28T13:25:11.953598",
     "status": "completed"
    },
    "tags": []
   },
   "outputs": [
    {
     "data": {
      "text/plain": [
       "id           0\n",
       "title      558\n",
       "author    1957\n",
       "text        39\n",
       "label        0\n",
       "dtype: int64"
      ]
     },
     "execution_count": 7,
     "metadata": {},
     "output_type": "execute_result"
    }
   ],
   "source": [
    "data.isnull().sum()"
   ]
  },
  {
   "cell_type": "code",
   "execution_count": 8,
   "id": "da6d1433",
   "metadata": {
    "execution": {
     "iopub.execute_input": "2024-02-28T13:25:12.013522Z",
     "iopub.status.busy": "2024-02-28T13:25:12.013152Z",
     "iopub.status.idle": "2024-02-28T13:25:12.063867Z",
     "shell.execute_reply": "2024-02-28T13:25:12.063029Z"
    },
    "papermill": {
     "duration": 0.065709,
     "end_time": "2024-02-28T13:25:12.066036",
     "exception": false,
     "start_time": "2024-02-28T13:25:12.000327",
     "status": "completed"
    },
    "tags": []
   },
   "outputs": [
    {
     "data": {
      "text/plain": [
       "title\n",
       "The Dark Agenda Behind Globalism And Open Borders                                                               5\n",
       "Get Ready For Civil Unrest: Survey Finds That Most Americans Are Concerned About Election Violence              5\n",
       "Thomas Frank Explores Whether Hillary Clinton and the Democratic Party Will Address Inequality                  4\n",
       "The U.S. National Bird Is Now a Drone                                                                           4\n",
       "Will Barack Obama Delay Or Suspend The Election If Hillary Is Forced Out By The New FBI Email Investigation?    4\n",
       "                                                                                                               ..\n",
       "Gatlinburg Residents Return Home to Wildfire Destruction - The New York Times                                   1\n",
       "Gathering to Remember Bill Cunningham, Outside the Picture Frame - The New York Times                           1\n",
       "Gatestone Institute: 423 New Mosques, 500 Closed Churches in London                                             1\n",
       "Gas Prices Surge in South After Pipeline Leak - The New York Times                                              1\n",
       "🚨Bill Clinton and Hillary Lolita Express Pedophilia Ring🚨                                                       1\n",
       "Name: count, Length: 19803, dtype: int64"
      ]
     },
     "execution_count": 8,
     "metadata": {},
     "output_type": "execute_result"
    }
   ],
   "source": [
    "data.value_counts('title')"
   ]
  },
  {
   "cell_type": "code",
   "execution_count": 9,
   "id": "036899f6",
   "metadata": {
    "execution": {
     "iopub.execute_input": "2024-02-28T13:25:12.091535Z",
     "iopub.status.busy": "2024-02-28T13:25:12.090796Z",
     "iopub.status.idle": "2024-02-28T13:25:12.111287Z",
     "shell.execute_reply": "2024-02-28T13:25:12.110234Z"
    },
    "papermill": {
     "duration": 0.036522,
     "end_time": "2024-02-28T13:25:12.114183",
     "exception": false,
     "start_time": "2024-02-28T13:25:12.077661",
     "status": "completed"
    },
    "tags": []
   },
   "outputs": [],
   "source": [
    "#filling null values with null stting\n",
    "data=data.fillna('')"
   ]
  },
  {
   "cell_type": "code",
   "execution_count": 10,
   "id": "4a8c562b",
   "metadata": {
    "execution": {
     "iopub.execute_input": "2024-02-28T13:25:12.140711Z",
     "iopub.status.busy": "2024-02-28T13:25:12.139629Z",
     "iopub.status.idle": "2024-02-28T13:25:12.157424Z",
     "shell.execute_reply": "2024-02-28T13:25:12.156318Z"
    },
    "papermill": {
     "duration": 0.033867,
     "end_time": "2024-02-28T13:25:12.160008",
     "exception": false,
     "start_time": "2024-02-28T13:25:12.126141",
     "status": "completed"
    },
    "tags": []
   },
   "outputs": [
    {
     "data": {
      "text/plain": [
       "id        0\n",
       "title     0\n",
       "author    0\n",
       "text      0\n",
       "label     0\n",
       "dtype: int64"
      ]
     },
     "execution_count": 10,
     "metadata": {},
     "output_type": "execute_result"
    }
   ],
   "source": [
    "#checking for null values\n",
    "data.isnull().sum()"
   ]
  },
  {
   "cell_type": "code",
   "execution_count": 11,
   "id": "8a428b68",
   "metadata": {
    "execution": {
     "iopub.execute_input": "2024-02-28T13:25:12.186334Z",
     "iopub.status.busy": "2024-02-28T13:25:12.185461Z",
     "iopub.status.idle": "2024-02-28T13:25:12.203391Z",
     "shell.execute_reply": "2024-02-28T13:25:12.202439Z"
    },
    "papermill": {
     "duration": 0.033953,
     "end_time": "2024-02-28T13:25:12.206202",
     "exception": false,
     "start_time": "2024-02-28T13:25:12.172249",
     "status": "completed"
    },
    "tags": []
   },
   "outputs": [],
   "source": [
    "#merging columns\n",
    "data['content']=data[\"author\"]+\" \"+data[\"title\"]"
   ]
  },
  {
   "cell_type": "code",
   "execution_count": 12,
   "id": "ec52dfb3",
   "metadata": {
    "execution": {
     "iopub.execute_input": "2024-02-28T13:25:12.233990Z",
     "iopub.status.busy": "2024-02-28T13:25:12.233315Z",
     "iopub.status.idle": "2024-02-28T13:25:12.246270Z",
     "shell.execute_reply": "2024-02-28T13:25:12.245099Z"
    },
    "papermill": {
     "duration": 0.029928,
     "end_time": "2024-02-28T13:25:12.248910",
     "exception": false,
     "start_time": "2024-02-28T13:25:12.218982",
     "status": "completed"
    },
    "tags": []
   },
   "outputs": [
    {
     "data": {
      "text/html": [
       "<div>\n",
       "<style scoped>\n",
       "    .dataframe tbody tr th:only-of-type {\n",
       "        vertical-align: middle;\n",
       "    }\n",
       "\n",
       "    .dataframe tbody tr th {\n",
       "        vertical-align: top;\n",
       "    }\n",
       "\n",
       "    .dataframe thead th {\n",
       "        text-align: right;\n",
       "    }\n",
       "</style>\n",
       "<table border=\"1\" class=\"dataframe\">\n",
       "  <thead>\n",
       "    <tr style=\"text-align: right;\">\n",
       "      <th></th>\n",
       "      <th>id</th>\n",
       "      <th>title</th>\n",
       "      <th>author</th>\n",
       "      <th>text</th>\n",
       "      <th>label</th>\n",
       "      <th>content</th>\n",
       "    </tr>\n",
       "  </thead>\n",
       "  <tbody>\n",
       "    <tr>\n",
       "      <th>0</th>\n",
       "      <td>0</td>\n",
       "      <td>House Dem Aide: We Didn’t Even See Comey’s Let...</td>\n",
       "      <td>Darrell Lucus</td>\n",
       "      <td>House Dem Aide: We Didn’t Even See Comey’s Let...</td>\n",
       "      <td>1</td>\n",
       "      <td>Darrell Lucus House Dem Aide: We Didn’t Even S...</td>\n",
       "    </tr>\n",
       "    <tr>\n",
       "      <th>1</th>\n",
       "      <td>1</td>\n",
       "      <td>FLYNN: Hillary Clinton, Big Woman on Campus - ...</td>\n",
       "      <td>Daniel J. Flynn</td>\n",
       "      <td>Ever get the feeling your life circles the rou...</td>\n",
       "      <td>0</td>\n",
       "      <td>Daniel J. Flynn FLYNN: Hillary Clinton, Big Wo...</td>\n",
       "    </tr>\n",
       "    <tr>\n",
       "      <th>2</th>\n",
       "      <td>2</td>\n",
       "      <td>Why the Truth Might Get You Fired</td>\n",
       "      <td>Consortiumnews.com</td>\n",
       "      <td>Why the Truth Might Get You Fired October 29, ...</td>\n",
       "      <td>1</td>\n",
       "      <td>Consortiumnews.com Why the Truth Might Get You...</td>\n",
       "    </tr>\n",
       "    <tr>\n",
       "      <th>3</th>\n",
       "      <td>3</td>\n",
       "      <td>15 Civilians Killed In Single US Airstrike Hav...</td>\n",
       "      <td>Jessica Purkiss</td>\n",
       "      <td>Videos 15 Civilians Killed In Single US Airstr...</td>\n",
       "      <td>1</td>\n",
       "      <td>Jessica Purkiss 15 Civilians Killed In Single ...</td>\n",
       "    </tr>\n",
       "    <tr>\n",
       "      <th>4</th>\n",
       "      <td>4</td>\n",
       "      <td>Iranian woman jailed for fictional unpublished...</td>\n",
       "      <td>Howard Portnoy</td>\n",
       "      <td>Print \\nAn Iranian woman has been sentenced to...</td>\n",
       "      <td>1</td>\n",
       "      <td>Howard Portnoy Iranian woman jailed for fictio...</td>\n",
       "    </tr>\n",
       "  </tbody>\n",
       "</table>\n",
       "</div>"
      ],
      "text/plain": [
       "   id                                              title              author  \\\n",
       "0   0  House Dem Aide: We Didn’t Even See Comey’s Let...       Darrell Lucus   \n",
       "1   1  FLYNN: Hillary Clinton, Big Woman on Campus - ...     Daniel J. Flynn   \n",
       "2   2                  Why the Truth Might Get You Fired  Consortiumnews.com   \n",
       "3   3  15 Civilians Killed In Single US Airstrike Hav...     Jessica Purkiss   \n",
       "4   4  Iranian woman jailed for fictional unpublished...      Howard Portnoy   \n",
       "\n",
       "                                                text  label  \\\n",
       "0  House Dem Aide: We Didn’t Even See Comey’s Let...      1   \n",
       "1  Ever get the feeling your life circles the rou...      0   \n",
       "2  Why the Truth Might Get You Fired October 29, ...      1   \n",
       "3  Videos 15 Civilians Killed In Single US Airstr...      1   \n",
       "4  Print \\nAn Iranian woman has been sentenced to...      1   \n",
       "\n",
       "                                             content  \n",
       "0  Darrell Lucus House Dem Aide: We Didn’t Even S...  \n",
       "1  Daniel J. Flynn FLYNN: Hillary Clinton, Big Wo...  \n",
       "2  Consortiumnews.com Why the Truth Might Get You...  \n",
       "3  Jessica Purkiss 15 Civilians Killed In Single ...  \n",
       "4  Howard Portnoy Iranian woman jailed for fictio...  "
      ]
     },
     "execution_count": 12,
     "metadata": {},
     "output_type": "execute_result"
    }
   ],
   "source": [
    "data.head()"
   ]
  },
  {
   "cell_type": "code",
   "execution_count": 13,
   "id": "6a6d3c5f",
   "metadata": {
    "execution": {
     "iopub.execute_input": "2024-02-28T13:25:12.276749Z",
     "iopub.status.busy": "2024-02-28T13:25:12.276142Z",
     "iopub.status.idle": "2024-02-28T13:25:12.287309Z",
     "shell.execute_reply": "2024-02-28T13:25:12.286283Z"
    },
    "papermill": {
     "duration": 0.027946,
     "end_time": "2024-02-28T13:25:12.289887",
     "exception": false,
     "start_time": "2024-02-28T13:25:12.261941",
     "status": "completed"
    },
    "tags": []
   },
   "outputs": [],
   "source": [
    "#saperating features and target\n",
    "x=data.drop(columns=\"label\",axis=1)\n",
    "y=data['label']"
   ]
  },
  {
   "cell_type": "code",
   "execution_count": 14,
   "id": "34efe404",
   "metadata": {
    "execution": {
     "iopub.execute_input": "2024-02-28T13:25:12.316424Z",
     "iopub.status.busy": "2024-02-28T13:25:12.316056Z",
     "iopub.status.idle": "2024-02-28T13:25:12.326799Z",
     "shell.execute_reply": "2024-02-28T13:25:12.325648Z"
    },
    "papermill": {
     "duration": 0.027973,
     "end_time": "2024-02-28T13:25:12.330348",
     "exception": false,
     "start_time": "2024-02-28T13:25:12.302375",
     "status": "completed"
    },
    "tags": []
   },
   "outputs": [
    {
     "name": "stdout",
     "output_type": "stream",
     "text": [
      "          id                                              title  \\\n",
      "0          0  House Dem Aide: We Didn’t Even See Comey’s Let...   \n",
      "1          1  FLYNN: Hillary Clinton, Big Woman on Campus - ...   \n",
      "2          2                  Why the Truth Might Get You Fired   \n",
      "3          3  15 Civilians Killed In Single US Airstrike Hav...   \n",
      "4          4  Iranian woman jailed for fictional unpublished...   \n",
      "...      ...                                                ...   \n",
      "20795  20795  Rapper T.I.: Trump a ’Poster Child For White S...   \n",
      "20796  20796  N.F.L. Playoffs: Schedule, Matchups and Odds -...   \n",
      "20797  20797  Macy’s Is Said to Receive Takeover Approach by...   \n",
      "20798  20798  NATO, Russia To Hold Parallel Exercises In Bal...   \n",
      "20799  20799                          What Keeps the F-35 Alive   \n",
      "\n",
      "                                          author  \\\n",
      "0                                  Darrell Lucus   \n",
      "1                                Daniel J. Flynn   \n",
      "2                             Consortiumnews.com   \n",
      "3                                Jessica Purkiss   \n",
      "4                                 Howard Portnoy   \n",
      "...                                          ...   \n",
      "20795                              Jerome Hudson   \n",
      "20796                           Benjamin Hoffman   \n",
      "20797  Michael J. de la Merced and Rachel Abrams   \n",
      "20798                                Alex Ansary   \n",
      "20799                              David Swanson   \n",
      "\n",
      "                                                    text  \\\n",
      "0      House Dem Aide: We Didn’t Even See Comey’s Let...   \n",
      "1      Ever get the feeling your life circles the rou...   \n",
      "2      Why the Truth Might Get You Fired October 29, ...   \n",
      "3      Videos 15 Civilians Killed In Single US Airstr...   \n",
      "4      Print \\nAn Iranian woman has been sentenced to...   \n",
      "...                                                  ...   \n",
      "20795  Rapper T. I. unloaded on black celebrities who...   \n",
      "20796  When the Green Bay Packers lost to the Washing...   \n",
      "20797  The Macy’s of today grew from the union of sev...   \n",
      "20798  NATO, Russia To Hold Parallel Exercises In Bal...   \n",
      "20799    David Swanson is an author, activist, journa...   \n",
      "\n",
      "                                                 content  \n",
      "0      Darrell Lucus House Dem Aide: We Didn’t Even S...  \n",
      "1      Daniel J. Flynn FLYNN: Hillary Clinton, Big Wo...  \n",
      "2      Consortiumnews.com Why the Truth Might Get You...  \n",
      "3      Jessica Purkiss 15 Civilians Killed In Single ...  \n",
      "4      Howard Portnoy Iranian woman jailed for fictio...  \n",
      "...                                                  ...  \n",
      "20795  Jerome Hudson Rapper T.I.: Trump a ’Poster Chi...  \n",
      "20796  Benjamin Hoffman N.F.L. Playoffs: Schedule, Ma...  \n",
      "20797  Michael J. de la Merced and Rachel Abrams Macy...  \n",
      "20798  Alex Ansary NATO, Russia To Hold Parallel Exer...  \n",
      "20799            David Swanson What Keeps the F-35 Alive  \n",
      "\n",
      "[20800 rows x 5 columns]\n"
     ]
    }
   ],
   "source": [
    "print(x)"
   ]
  },
  {
   "cell_type": "code",
   "execution_count": 15,
   "id": "9466a99a",
   "metadata": {
    "execution": {
     "iopub.execute_input": "2024-02-28T13:25:12.357890Z",
     "iopub.status.busy": "2024-02-28T13:25:12.357495Z",
     "iopub.status.idle": "2024-02-28T13:25:12.363936Z",
     "shell.execute_reply": "2024-02-28T13:25:12.362850Z"
    },
    "papermill": {
     "duration": 0.023394,
     "end_time": "2024-02-28T13:25:12.366666",
     "exception": false,
     "start_time": "2024-02-28T13:25:12.343272",
     "status": "completed"
    },
    "tags": []
   },
   "outputs": [
    {
     "name": "stdout",
     "output_type": "stream",
     "text": [
      "0        1\n",
      "1        0\n",
      "2        1\n",
      "3        1\n",
      "4        1\n",
      "        ..\n",
      "20795    0\n",
      "20796    0\n",
      "20797    0\n",
      "20798    1\n",
      "20799    1\n",
      "Name: label, Length: 20800, dtype: int64\n"
     ]
    }
   ],
   "source": [
    "print(y)"
   ]
  },
  {
   "cell_type": "code",
   "execution_count": 16,
   "id": "32b76f99",
   "metadata": {
    "execution": {
     "iopub.execute_input": "2024-02-28T13:25:12.393870Z",
     "iopub.status.busy": "2024-02-28T13:25:12.393472Z",
     "iopub.status.idle": "2024-02-28T13:25:12.496123Z",
     "shell.execute_reply": "2024-02-28T13:25:12.494882Z"
    },
    "papermill": {
     "duration": 0.119118,
     "end_time": "2024-02-28T13:25:12.498505",
     "exception": false,
     "start_time": "2024-02-28T13:25:12.379387",
     "status": "completed"
    },
    "tags": []
   },
   "outputs": [
    {
     "name": "stdout",
     "output_type": "stream",
     "text": [
      "[nltk_data] Downloading package stopwords to /usr/share/nltk_data...\n",
      "[nltk_data]   Package stopwords is already up-to-date!\n"
     ]
    },
    {
     "data": {
      "text/plain": [
       "True"
      ]
     },
     "execution_count": 16,
     "metadata": {},
     "output_type": "execute_result"
    }
   ],
   "source": [
    "#printing stopwords\n",
    "nltk.download('stopwords')"
   ]
  },
  {
   "cell_type": "code",
   "execution_count": 17,
   "id": "e6e57ada",
   "metadata": {
    "execution": {
     "iopub.execute_input": "2024-02-28T13:25:12.526736Z",
     "iopub.status.busy": "2024-02-28T13:25:12.526344Z",
     "iopub.status.idle": "2024-02-28T13:25:12.535013Z",
     "shell.execute_reply": "2024-02-28T13:25:12.533571Z"
    },
    "papermill": {
     "duration": 0.025122,
     "end_time": "2024-02-28T13:25:12.537147",
     "exception": false,
     "start_time": "2024-02-28T13:25:12.512025",
     "status": "completed"
    },
    "tags": []
   },
   "outputs": [
    {
     "name": "stdout",
     "output_type": "stream",
     "text": [
      "['i', 'me', 'my', 'myself', 'we', 'our', 'ours', 'ourselves', 'you', \"you're\", \"you've\", \"you'll\", \"you'd\", 'your', 'yours', 'yourself', 'yourselves', 'he', 'him', 'his', 'himself', 'she', \"she's\", 'her', 'hers', 'herself', 'it', \"it's\", 'its', 'itself', 'they', 'them', 'their', 'theirs', 'themselves', 'what', 'which', 'who', 'whom', 'this', 'that', \"that'll\", 'these', 'those', 'am', 'is', 'are', 'was', 'were', 'be', 'been', 'being', 'have', 'has', 'had', 'having', 'do', 'does', 'did', 'doing', 'a', 'an', 'the', 'and', 'but', 'if', 'or', 'because', 'as', 'until', 'while', 'of', 'at', 'by', 'for', 'with', 'about', 'against', 'between', 'into', 'through', 'during', 'before', 'after', 'above', 'below', 'to', 'from', 'up', 'down', 'in', 'out', 'on', 'off', 'over', 'under', 'again', 'further', 'then', 'once', 'here', 'there', 'when', 'where', 'why', 'how', 'all', 'any', 'both', 'each', 'few', 'more', 'most', 'other', 'some', 'such', 'no', 'nor', 'not', 'only', 'own', 'same', 'so', 'than', 'too', 'very', 's', 't', 'can', 'will', 'just', 'don', \"don't\", 'should', \"should've\", 'now', 'd', 'll', 'm', 'o', 're', 've', 'y', 'ain', 'aren', \"aren't\", 'couldn', \"couldn't\", 'didn', \"didn't\", 'doesn', \"doesn't\", 'hadn', \"hadn't\", 'hasn', \"hasn't\", 'haven', \"haven't\", 'isn', \"isn't\", 'ma', 'mightn', \"mightn't\", 'mustn', \"mustn't\", 'needn', \"needn't\", 'shan', \"shan't\", 'shouldn', \"shouldn't\", 'wasn', \"wasn't\", 'weren', \"weren't\", 'won', \"won't\", 'wouldn', \"wouldn't\"]\n"
     ]
    }
   ],
   "source": [
    "print(stopwords.words('english'))"
   ]
  },
  {
   "cell_type": "code",
   "execution_count": 18,
   "id": "8878dd3c",
   "metadata": {
    "execution": {
     "iopub.execute_input": "2024-02-28T13:25:12.566530Z",
     "iopub.status.busy": "2024-02-28T13:25:12.565570Z",
     "iopub.status.idle": "2024-02-28T13:25:12.570369Z",
     "shell.execute_reply": "2024-02-28T13:25:12.569261Z"
    },
    "papermill": {
     "duration": 0.022014,
     "end_time": "2024-02-28T13:25:12.572689",
     "exception": false,
     "start_time": "2024-02-28T13:25:12.550675",
     "status": "completed"
    },
    "tags": []
   },
   "outputs": [],
   "source": [
    "#stemming\n",
    "port=PorterStemmer()"
   ]
  },
  {
   "cell_type": "code",
   "execution_count": 19,
   "id": "17ad46be",
   "metadata": {
    "execution": {
     "iopub.execute_input": "2024-02-28T13:25:12.601101Z",
     "iopub.status.busy": "2024-02-28T13:25:12.600674Z",
     "iopub.status.idle": "2024-02-28T13:25:12.607087Z",
     "shell.execute_reply": "2024-02-28T13:25:12.605862Z"
    },
    "papermill": {
     "duration": 0.02305,
     "end_time": "2024-02-28T13:25:12.609237",
     "exception": false,
     "start_time": "2024-02-28T13:25:12.586187",
     "status": "completed"
    },
    "tags": []
   },
   "outputs": [],
   "source": [
    "def stemming(content):\n",
    "    stemmed_content=re.sub('[^a-zA-z]',' ',content)\n",
    "    stemmed_content=stemmed_content.lower()\n",
    "    stemmed_content=stemmed_content.split()\n",
    "    stemmed_content=[port.stem(word) for word in stemmed_content if not word in stopwords.words('english')]\n",
    "    stemmed_content=\" \".join(stemmed_content)\n",
    "    return stemmed_content"
   ]
  },
  {
   "cell_type": "code",
   "execution_count": 20,
   "id": "66c08698",
   "metadata": {
    "execution": {
     "iopub.execute_input": "2024-02-28T13:25:12.637868Z",
     "iopub.status.busy": "2024-02-28T13:25:12.637149Z",
     "iopub.status.idle": "2024-02-28T13:26:03.433051Z",
     "shell.execute_reply": "2024-02-28T13:26:03.431987Z"
    },
    "papermill": {
     "duration": 50.813274,
     "end_time": "2024-02-28T13:26:03.435880",
     "exception": false,
     "start_time": "2024-02-28T13:25:12.622606",
     "status": "completed"
    },
    "tags": []
   },
   "outputs": [],
   "source": [
    "data['content']=data['content'].apply(stemming)"
   ]
  },
  {
   "cell_type": "code",
   "execution_count": 21,
   "id": "7773d6fc",
   "metadata": {
    "execution": {
     "iopub.execute_input": "2024-02-28T13:26:03.464132Z",
     "iopub.status.busy": "2024-02-28T13:26:03.463756Z",
     "iopub.status.idle": "2024-02-28T13:26:03.476654Z",
     "shell.execute_reply": "2024-02-28T13:26:03.475576Z"
    },
    "papermill": {
     "duration": 0.029648,
     "end_time": "2024-02-28T13:26:03.479026",
     "exception": false,
     "start_time": "2024-02-28T13:26:03.449378",
     "status": "completed"
    },
    "tags": []
   },
   "outputs": [
    {
     "data": {
      "text/html": [
       "<div>\n",
       "<style scoped>\n",
       "    .dataframe tbody tr th:only-of-type {\n",
       "        vertical-align: middle;\n",
       "    }\n",
       "\n",
       "    .dataframe tbody tr th {\n",
       "        vertical-align: top;\n",
       "    }\n",
       "\n",
       "    .dataframe thead th {\n",
       "        text-align: right;\n",
       "    }\n",
       "</style>\n",
       "<table border=\"1\" class=\"dataframe\">\n",
       "  <thead>\n",
       "    <tr style=\"text-align: right;\">\n",
       "      <th></th>\n",
       "      <th>id</th>\n",
       "      <th>title</th>\n",
       "      <th>author</th>\n",
       "      <th>text</th>\n",
       "      <th>label</th>\n",
       "      <th>content</th>\n",
       "    </tr>\n",
       "  </thead>\n",
       "  <tbody>\n",
       "    <tr>\n",
       "      <th>0</th>\n",
       "      <td>0</td>\n",
       "      <td>House Dem Aide: We Didn’t Even See Comey’s Let...</td>\n",
       "      <td>Darrell Lucus</td>\n",
       "      <td>House Dem Aide: We Didn’t Even See Comey’s Let...</td>\n",
       "      <td>1</td>\n",
       "      <td>darrel lucu hous dem aid even see comey letter...</td>\n",
       "    </tr>\n",
       "    <tr>\n",
       "      <th>1</th>\n",
       "      <td>1</td>\n",
       "      <td>FLYNN: Hillary Clinton, Big Woman on Campus - ...</td>\n",
       "      <td>Daniel J. Flynn</td>\n",
       "      <td>Ever get the feeling your life circles the rou...</td>\n",
       "      <td>0</td>\n",
       "      <td>daniel j flynn flynn hillari clinton big woman...</td>\n",
       "    </tr>\n",
       "    <tr>\n",
       "      <th>2</th>\n",
       "      <td>2</td>\n",
       "      <td>Why the Truth Might Get You Fired</td>\n",
       "      <td>Consortiumnews.com</td>\n",
       "      <td>Why the Truth Might Get You Fired October 29, ...</td>\n",
       "      <td>1</td>\n",
       "      <td>consortiumnew com truth might get fire</td>\n",
       "    </tr>\n",
       "    <tr>\n",
       "      <th>3</th>\n",
       "      <td>3</td>\n",
       "      <td>15 Civilians Killed In Single US Airstrike Hav...</td>\n",
       "      <td>Jessica Purkiss</td>\n",
       "      <td>Videos 15 Civilians Killed In Single US Airstr...</td>\n",
       "      <td>1</td>\n",
       "      <td>jessica purkiss civilian kill singl us airstri...</td>\n",
       "    </tr>\n",
       "    <tr>\n",
       "      <th>4</th>\n",
       "      <td>4</td>\n",
       "      <td>Iranian woman jailed for fictional unpublished...</td>\n",
       "      <td>Howard Portnoy</td>\n",
       "      <td>Print \\nAn Iranian woman has been sentenced to...</td>\n",
       "      <td>1</td>\n",
       "      <td>howard portnoy iranian woman jail fiction unpu...</td>\n",
       "    </tr>\n",
       "  </tbody>\n",
       "</table>\n",
       "</div>"
      ],
      "text/plain": [
       "   id                                              title              author  \\\n",
       "0   0  House Dem Aide: We Didn’t Even See Comey’s Let...       Darrell Lucus   \n",
       "1   1  FLYNN: Hillary Clinton, Big Woman on Campus - ...     Daniel J. Flynn   \n",
       "2   2                  Why the Truth Might Get You Fired  Consortiumnews.com   \n",
       "3   3  15 Civilians Killed In Single US Airstrike Hav...     Jessica Purkiss   \n",
       "4   4  Iranian woman jailed for fictional unpublished...      Howard Portnoy   \n",
       "\n",
       "                                                text  label  \\\n",
       "0  House Dem Aide: We Didn’t Even See Comey’s Let...      1   \n",
       "1  Ever get the feeling your life circles the rou...      0   \n",
       "2  Why the Truth Might Get You Fired October 29, ...      1   \n",
       "3  Videos 15 Civilians Killed In Single US Airstr...      1   \n",
       "4  Print \\nAn Iranian woman has been sentenced to...      1   \n",
       "\n",
       "                                             content  \n",
       "0  darrel lucu hous dem aid even see comey letter...  \n",
       "1  daniel j flynn flynn hillari clinton big woman...  \n",
       "2             consortiumnew com truth might get fire  \n",
       "3  jessica purkiss civilian kill singl us airstri...  \n",
       "4  howard portnoy iranian woman jail fiction unpu...  "
      ]
     },
     "execution_count": 21,
     "metadata": {},
     "output_type": "execute_result"
    }
   ],
   "source": [
    "data.head()"
   ]
  },
  {
   "cell_type": "code",
   "execution_count": 22,
   "id": "819fb42b",
   "metadata": {
    "execution": {
     "iopub.execute_input": "2024-02-28T13:26:03.508518Z",
     "iopub.status.busy": "2024-02-28T13:26:03.508133Z",
     "iopub.status.idle": "2024-02-28T13:26:03.514927Z",
     "shell.execute_reply": "2024-02-28T13:26:03.513805Z"
    },
    "papermill": {
     "duration": 0.02413,
     "end_time": "2024-02-28T13:26:03.517105",
     "exception": false,
     "start_time": "2024-02-28T13:26:03.492975",
     "status": "completed"
    },
    "tags": []
   },
   "outputs": [],
   "source": [
    "#saperating features and target\n",
    "x=data['content'].values\n",
    "y=data['label'].values"
   ]
  },
  {
   "cell_type": "code",
   "execution_count": 23,
   "id": "03648079",
   "metadata": {
    "execution": {
     "iopub.execute_input": "2024-02-28T13:26:03.547601Z",
     "iopub.status.busy": "2024-02-28T13:26:03.546918Z",
     "iopub.status.idle": "2024-02-28T13:26:03.551383Z",
     "shell.execute_reply": "2024-02-28T13:26:03.550391Z"
    },
    "papermill": {
     "duration": 0.022223,
     "end_time": "2024-02-28T13:26:03.553688",
     "exception": false,
     "start_time": "2024-02-28T13:26:03.531465",
     "status": "completed"
    },
    "tags": []
   },
   "outputs": [],
   "source": [
    "vector=TfidfVectorizer()"
   ]
  },
  {
   "cell_type": "code",
   "execution_count": 24,
   "id": "8ccfdc91",
   "metadata": {
    "execution": {
     "iopub.execute_input": "2024-02-28T13:26:03.583593Z",
     "iopub.status.busy": "2024-02-28T13:26:03.583155Z",
     "iopub.status.idle": "2024-02-28T13:26:04.008119Z",
     "shell.execute_reply": "2024-02-28T13:26:04.007009Z"
    },
    "papermill": {
     "duration": 0.442741,
     "end_time": "2024-02-28T13:26:04.010617",
     "exception": false,
     "start_time": "2024-02-28T13:26:03.567876",
     "status": "completed"
    },
    "tags": []
   },
   "outputs": [
    {
     "data": {
      "text/html": [
       "<style>#sk-container-id-1 {color: black;background-color: white;}#sk-container-id-1 pre{padding: 0;}#sk-container-id-1 div.sk-toggleable {background-color: white;}#sk-container-id-1 label.sk-toggleable__label {cursor: pointer;display: block;width: 100%;margin-bottom: 0;padding: 0.3em;box-sizing: border-box;text-align: center;}#sk-container-id-1 label.sk-toggleable__label-arrow:before {content: \"▸\";float: left;margin-right: 0.25em;color: #696969;}#sk-container-id-1 label.sk-toggleable__label-arrow:hover:before {color: black;}#sk-container-id-1 div.sk-estimator:hover label.sk-toggleable__label-arrow:before {color: black;}#sk-container-id-1 div.sk-toggleable__content {max-height: 0;max-width: 0;overflow: hidden;text-align: left;background-color: #f0f8ff;}#sk-container-id-1 div.sk-toggleable__content pre {margin: 0.2em;color: black;border-radius: 0.25em;background-color: #f0f8ff;}#sk-container-id-1 input.sk-toggleable__control:checked~div.sk-toggleable__content {max-height: 200px;max-width: 100%;overflow: auto;}#sk-container-id-1 input.sk-toggleable__control:checked~label.sk-toggleable__label-arrow:before {content: \"▾\";}#sk-container-id-1 div.sk-estimator input.sk-toggleable__control:checked~label.sk-toggleable__label {background-color: #d4ebff;}#sk-container-id-1 div.sk-label input.sk-toggleable__control:checked~label.sk-toggleable__label {background-color: #d4ebff;}#sk-container-id-1 input.sk-hidden--visually {border: 0;clip: rect(1px 1px 1px 1px);clip: rect(1px, 1px, 1px, 1px);height: 1px;margin: -1px;overflow: hidden;padding: 0;position: absolute;width: 1px;}#sk-container-id-1 div.sk-estimator {font-family: monospace;background-color: #f0f8ff;border: 1px dotted black;border-radius: 0.25em;box-sizing: border-box;margin-bottom: 0.5em;}#sk-container-id-1 div.sk-estimator:hover {background-color: #d4ebff;}#sk-container-id-1 div.sk-parallel-item::after {content: \"\";width: 100%;border-bottom: 1px solid gray;flex-grow: 1;}#sk-container-id-1 div.sk-label:hover label.sk-toggleable__label {background-color: #d4ebff;}#sk-container-id-1 div.sk-serial::before {content: \"\";position: absolute;border-left: 1px solid gray;box-sizing: border-box;top: 0;bottom: 0;left: 50%;z-index: 0;}#sk-container-id-1 div.sk-serial {display: flex;flex-direction: column;align-items: center;background-color: white;padding-right: 0.2em;padding-left: 0.2em;position: relative;}#sk-container-id-1 div.sk-item {position: relative;z-index: 1;}#sk-container-id-1 div.sk-parallel {display: flex;align-items: stretch;justify-content: center;background-color: white;position: relative;}#sk-container-id-1 div.sk-item::before, #sk-container-id-1 div.sk-parallel-item::before {content: \"\";position: absolute;border-left: 1px solid gray;box-sizing: border-box;top: 0;bottom: 0;left: 50%;z-index: -1;}#sk-container-id-1 div.sk-parallel-item {display: flex;flex-direction: column;z-index: 1;position: relative;background-color: white;}#sk-container-id-1 div.sk-parallel-item:first-child::after {align-self: flex-end;width: 50%;}#sk-container-id-1 div.sk-parallel-item:last-child::after {align-self: flex-start;width: 50%;}#sk-container-id-1 div.sk-parallel-item:only-child::after {width: 0;}#sk-container-id-1 div.sk-dashed-wrapped {border: 1px dashed gray;margin: 0 0.4em 0.5em 0.4em;box-sizing: border-box;padding-bottom: 0.4em;background-color: white;}#sk-container-id-1 div.sk-label label {font-family: monospace;font-weight: bold;display: inline-block;line-height: 1.2em;}#sk-container-id-1 div.sk-label-container {text-align: center;}#sk-container-id-1 div.sk-container {/* jupyter's `normalize.less` sets `[hidden] { display: none; }` but bootstrap.min.css set `[hidden] { display: none !important; }` so we also need the `!important` here to be able to override the default hidden behavior on the sphinx rendered scikit-learn.org. See: https://github.com/scikit-learn/scikit-learn/issues/21755 */display: inline-block !important;position: relative;}#sk-container-id-1 div.sk-text-repr-fallback {display: none;}</style><div id=\"sk-container-id-1\" class=\"sk-top-container\"><div class=\"sk-text-repr-fallback\"><pre>TfidfVectorizer()</pre><b>In a Jupyter environment, please rerun this cell to show the HTML representation or trust the notebook. <br />On GitHub, the HTML representation is unable to render, please try loading this page with nbviewer.org.</b></div><div class=\"sk-container\" hidden><div class=\"sk-item\"><div class=\"sk-estimator sk-toggleable\"><input class=\"sk-toggleable__control sk-hidden--visually\" id=\"sk-estimator-id-1\" type=\"checkbox\" checked><label for=\"sk-estimator-id-1\" class=\"sk-toggleable__label sk-toggleable__label-arrow\">TfidfVectorizer</label><div class=\"sk-toggleable__content\"><pre>TfidfVectorizer()</pre></div></div></div></div></div>"
      ],
      "text/plain": [
       "TfidfVectorizer()"
      ]
     },
     "execution_count": 24,
     "metadata": {},
     "output_type": "execute_result"
    }
   ],
   "source": [
    "vector.fit(x)"
   ]
  },
  {
   "cell_type": "code",
   "execution_count": 25,
   "id": "1aa5cbb0",
   "metadata": {
    "execution": {
     "iopub.execute_input": "2024-02-28T13:26:04.040931Z",
     "iopub.status.busy": "2024-02-28T13:26:04.040528Z",
     "iopub.status.idle": "2024-02-28T13:26:04.412610Z",
     "shell.execute_reply": "2024-02-28T13:26:04.411311Z"
    },
    "papermill": {
     "duration": 0.390632,
     "end_time": "2024-02-28T13:26:04.415612",
     "exception": false,
     "start_time": "2024-02-28T13:26:04.024980",
     "status": "completed"
    },
    "tags": []
   },
   "outputs": [],
   "source": [
    "vector_trans=vector.transform(x)"
   ]
  },
  {
   "cell_type": "code",
   "execution_count": 26,
   "id": "fa5e1e76",
   "metadata": {
    "execution": {
     "iopub.execute_input": "2024-02-28T13:26:04.447626Z",
     "iopub.status.busy": "2024-02-28T13:26:04.446390Z",
     "iopub.status.idle": "2024-02-28T13:26:04.455787Z",
     "shell.execute_reply": "2024-02-28T13:26:04.454679Z"
    },
    "papermill": {
     "duration": 0.02842,
     "end_time": "2024-02-28T13:26:04.458724",
     "exception": false,
     "start_time": "2024-02-28T13:26:04.430304",
     "status": "completed"
    },
    "tags": []
   },
   "outputs": [
    {
     "name": "stdout",
     "output_type": "stream",
     "text": [
      "  (0, 15697)\t0.28485063562728646\n",
      "  (0, 13480)\t0.2565896679337957\n",
      "  (0, 8915)\t0.3635963806326075\n",
      "  (0, 8636)\t0.29212514087043684\n",
      "  (0, 7698)\t0.24785219520671603\n",
      "  (0, 7012)\t0.21874169089359144\n",
      "  (0, 4979)\t0.233316966909351\n",
      "  (0, 3795)\t0.2705332480845492\n",
      "  (0, 3603)\t0.3598939188262559\n",
      "  (0, 2962)\t0.2468450128533713\n",
      "  (0, 2485)\t0.3676519686797209\n",
      "  (0, 268)\t0.27010124977708766\n",
      "  (1, 16812)\t0.30071745655510157\n",
      "  (1, 6823)\t0.1904660198296849\n",
      "  (1, 5510)\t0.7143299355715573\n",
      "  (1, 3571)\t0.26373768806048464\n",
      "  (1, 2816)\t0.19094574062359204\n",
      "  (1, 2224)\t0.3827320386859759\n",
      "  (1, 1895)\t0.15521974226349364\n",
      "  (1, 1498)\t0.2939891562094648\n",
      "  (2, 15622)\t0.41544962664721613\n",
      "  (2, 9625)\t0.49351492943649944\n",
      "  (2, 5975)\t0.3474613386728292\n",
      "  (2, 5396)\t0.3866530551182615\n",
      "  (2, 3106)\t0.46097489583229645\n",
      "  :\t:\n",
      "  (20797, 13128)\t0.2482526352197606\n",
      "  (20797, 12350)\t0.27263457663336677\n",
      "  (20797, 12144)\t0.24778257724396507\n",
      "  (20797, 10311)\t0.08038079000566466\n",
      "  (20797, 9593)\t0.174553480255222\n",
      "  (20797, 9523)\t0.2954204003420313\n",
      "  (20797, 8994)\t0.36160868928090795\n",
      "  (20797, 8370)\t0.22322585870464118\n",
      "  (20797, 7049)\t0.21799048897828688\n",
      "  (20797, 3646)\t0.21155500613623743\n",
      "  (20797, 1288)\t0.33538056804139865\n",
      "  (20797, 700)\t0.30685846079762347\n",
      "  (20797, 44)\t0.29710241860700626\n",
      "  (20798, 13052)\t0.22363267488270608\n",
      "  (20798, 11057)\t0.4460515589182236\n",
      "  (20798, 10182)\t0.3192496370187028\n",
      "  (20798, 6896)\t0.32496285694299426\n",
      "  (20798, 5038)\t0.4083701450239529\n",
      "  (20798, 1126)\t0.4460515589182236\n",
      "  (20798, 589)\t0.3112141524638974\n",
      "  (20798, 351)\t0.28446937819072576\n",
      "  (20799, 14861)\t0.5677577267055112\n",
      "  (20799, 8042)\t0.45983893273780013\n",
      "  (20799, 3626)\t0.37927626273066584\n",
      "  (20799, 378)\t0.5677577267055112\n"
     ]
    }
   ],
   "source": [
    "print(vector_trans)"
   ]
  },
  {
   "cell_type": "code",
   "execution_count": 27,
   "id": "cbd1ed5d",
   "metadata": {
    "execution": {
     "iopub.execute_input": "2024-02-28T13:26:04.490046Z",
     "iopub.status.busy": "2024-02-28T13:26:04.489251Z",
     "iopub.status.idle": "2024-02-28T13:26:04.494232Z",
     "shell.execute_reply": "2024-02-28T13:26:04.493183Z"
    },
    "papermill": {
     "duration": 0.02327,
     "end_time": "2024-02-28T13:26:04.496518",
     "exception": false,
     "start_time": "2024-02-28T13:26:04.473248",
     "status": "completed"
    },
    "tags": []
   },
   "outputs": [],
   "source": [
    "x=vector_trans"
   ]
  },
  {
   "cell_type": "code",
   "execution_count": 28,
   "id": "59dc1cfe",
   "metadata": {
    "execution": {
     "iopub.execute_input": "2024-02-28T13:26:04.527024Z",
     "iopub.status.busy": "2024-02-28T13:26:04.526648Z",
     "iopub.status.idle": "2024-02-28T13:26:04.533782Z",
     "shell.execute_reply": "2024-02-28T13:26:04.532632Z"
    },
    "papermill": {
     "duration": 0.025105,
     "end_time": "2024-02-28T13:26:04.536097",
     "exception": false,
     "start_time": "2024-02-28T13:26:04.510992",
     "status": "completed"
    },
    "tags": []
   },
   "outputs": [
    {
     "name": "stdout",
     "output_type": "stream",
     "text": [
      "  (0, 15697)\t0.28485063562728646\n",
      "  (0, 13480)\t0.2565896679337957\n",
      "  (0, 8915)\t0.3635963806326075\n",
      "  (0, 8636)\t0.29212514087043684\n",
      "  (0, 7698)\t0.24785219520671603\n",
      "  (0, 7012)\t0.21874169089359144\n",
      "  (0, 4979)\t0.233316966909351\n",
      "  (0, 3795)\t0.2705332480845492\n",
      "  (0, 3603)\t0.3598939188262559\n",
      "  (0, 2962)\t0.2468450128533713\n",
      "  (0, 2485)\t0.3676519686797209\n",
      "  (0, 268)\t0.27010124977708766\n",
      "  (1, 16812)\t0.30071745655510157\n",
      "  (1, 6823)\t0.1904660198296849\n",
      "  (1, 5510)\t0.7143299355715573\n",
      "  (1, 3571)\t0.26373768806048464\n",
      "  (1, 2816)\t0.19094574062359204\n",
      "  (1, 2224)\t0.3827320386859759\n",
      "  (1, 1895)\t0.15521974226349364\n",
      "  (1, 1498)\t0.2939891562094648\n",
      "  (2, 15622)\t0.41544962664721613\n",
      "  (2, 9625)\t0.49351492943649944\n",
      "  (2, 5975)\t0.3474613386728292\n",
      "  (2, 5396)\t0.3866530551182615\n",
      "  (2, 3106)\t0.46097489583229645\n",
      "  :\t:\n",
      "  (20797, 13128)\t0.2482526352197606\n",
      "  (20797, 12350)\t0.27263457663336677\n",
      "  (20797, 12144)\t0.24778257724396507\n",
      "  (20797, 10311)\t0.08038079000566466\n",
      "  (20797, 9593)\t0.174553480255222\n",
      "  (20797, 9523)\t0.2954204003420313\n",
      "  (20797, 8994)\t0.36160868928090795\n",
      "  (20797, 8370)\t0.22322585870464118\n",
      "  (20797, 7049)\t0.21799048897828688\n",
      "  (20797, 3646)\t0.21155500613623743\n",
      "  (20797, 1288)\t0.33538056804139865\n",
      "  (20797, 700)\t0.30685846079762347\n",
      "  (20797, 44)\t0.29710241860700626\n",
      "  (20798, 13052)\t0.22363267488270608\n",
      "  (20798, 11057)\t0.4460515589182236\n",
      "  (20798, 10182)\t0.3192496370187028\n",
      "  (20798, 6896)\t0.32496285694299426\n",
      "  (20798, 5038)\t0.4083701450239529\n",
      "  (20798, 1126)\t0.4460515589182236\n",
      "  (20798, 589)\t0.3112141524638974\n",
      "  (20798, 351)\t0.28446937819072576\n",
      "  (20799, 14861)\t0.5677577267055112\n",
      "  (20799, 8042)\t0.45983893273780013\n",
      "  (20799, 3626)\t0.37927626273066584\n",
      "  (20799, 378)\t0.5677577267055112\n"
     ]
    }
   ],
   "source": [
    "print(x)"
   ]
  },
  {
   "cell_type": "code",
   "execution_count": 29,
   "id": "ed117fe4",
   "metadata": {
    "execution": {
     "iopub.execute_input": "2024-02-28T13:26:04.566687Z",
     "iopub.status.busy": "2024-02-28T13:26:04.566278Z",
     "iopub.status.idle": "2024-02-28T13:26:04.584998Z",
     "shell.execute_reply": "2024-02-28T13:26:04.584049Z"
    },
    "papermill": {
     "duration": 0.036872,
     "end_time": "2024-02-28T13:26:04.587524",
     "exception": false,
     "start_time": "2024-02-28T13:26:04.550652",
     "status": "completed"
    },
    "tags": []
   },
   "outputs": [],
   "source": [
    "#splitting training data and testing data\n",
    "x_train,x_test,y_train,y_test=train_test_split(x,y,test_size=0.2,stratify=y,random_state=2)"
   ]
  },
  {
   "cell_type": "code",
   "execution_count": 30,
   "id": "a676fadb",
   "metadata": {
    "execution": {
     "iopub.execute_input": "2024-02-28T13:26:04.618027Z",
     "iopub.status.busy": "2024-02-28T13:26:04.617623Z",
     "iopub.status.idle": "2024-02-28T13:26:04.622368Z",
     "shell.execute_reply": "2024-02-28T13:26:04.621379Z"
    },
    "papermill": {
     "duration": 0.022581,
     "end_time": "2024-02-28T13:26:04.624750",
     "exception": false,
     "start_time": "2024-02-28T13:26:04.602169",
     "status": "completed"
    },
    "tags": []
   },
   "outputs": [],
   "source": [
    "#implementation of machine learning algorithm\n",
    "reg=LogisticRegression()"
   ]
  },
  {
   "cell_type": "code",
   "execution_count": 31,
   "id": "4974052f",
   "metadata": {
    "execution": {
     "iopub.execute_input": "2024-02-28T13:26:04.655746Z",
     "iopub.status.busy": "2024-02-28T13:26:04.655371Z",
     "iopub.status.idle": "2024-02-28T13:26:05.439041Z",
     "shell.execute_reply": "2024-02-28T13:26:05.436732Z"
    },
    "papermill": {
     "duration": 0.83408,
     "end_time": "2024-02-28T13:26:05.473642",
     "exception": false,
     "start_time": "2024-02-28T13:26:04.639562",
     "status": "completed"
    },
    "tags": []
   },
   "outputs": [
    {
     "data": {
      "text/html": [
       "<style>#sk-container-id-2 {color: black;background-color: white;}#sk-container-id-2 pre{padding: 0;}#sk-container-id-2 div.sk-toggleable {background-color: white;}#sk-container-id-2 label.sk-toggleable__label {cursor: pointer;display: block;width: 100%;margin-bottom: 0;padding: 0.3em;box-sizing: border-box;text-align: center;}#sk-container-id-2 label.sk-toggleable__label-arrow:before {content: \"▸\";float: left;margin-right: 0.25em;color: #696969;}#sk-container-id-2 label.sk-toggleable__label-arrow:hover:before {color: black;}#sk-container-id-2 div.sk-estimator:hover label.sk-toggleable__label-arrow:before {color: black;}#sk-container-id-2 div.sk-toggleable__content {max-height: 0;max-width: 0;overflow: hidden;text-align: left;background-color: #f0f8ff;}#sk-container-id-2 div.sk-toggleable__content pre {margin: 0.2em;color: black;border-radius: 0.25em;background-color: #f0f8ff;}#sk-container-id-2 input.sk-toggleable__control:checked~div.sk-toggleable__content {max-height: 200px;max-width: 100%;overflow: auto;}#sk-container-id-2 input.sk-toggleable__control:checked~label.sk-toggleable__label-arrow:before {content: \"▾\";}#sk-container-id-2 div.sk-estimator input.sk-toggleable__control:checked~label.sk-toggleable__label {background-color: #d4ebff;}#sk-container-id-2 div.sk-label input.sk-toggleable__control:checked~label.sk-toggleable__label {background-color: #d4ebff;}#sk-container-id-2 input.sk-hidden--visually {border: 0;clip: rect(1px 1px 1px 1px);clip: rect(1px, 1px, 1px, 1px);height: 1px;margin: -1px;overflow: hidden;padding: 0;position: absolute;width: 1px;}#sk-container-id-2 div.sk-estimator {font-family: monospace;background-color: #f0f8ff;border: 1px dotted black;border-radius: 0.25em;box-sizing: border-box;margin-bottom: 0.5em;}#sk-container-id-2 div.sk-estimator:hover {background-color: #d4ebff;}#sk-container-id-2 div.sk-parallel-item::after {content: \"\";width: 100%;border-bottom: 1px solid gray;flex-grow: 1;}#sk-container-id-2 div.sk-label:hover label.sk-toggleable__label {background-color: #d4ebff;}#sk-container-id-2 div.sk-serial::before {content: \"\";position: absolute;border-left: 1px solid gray;box-sizing: border-box;top: 0;bottom: 0;left: 50%;z-index: 0;}#sk-container-id-2 div.sk-serial {display: flex;flex-direction: column;align-items: center;background-color: white;padding-right: 0.2em;padding-left: 0.2em;position: relative;}#sk-container-id-2 div.sk-item {position: relative;z-index: 1;}#sk-container-id-2 div.sk-parallel {display: flex;align-items: stretch;justify-content: center;background-color: white;position: relative;}#sk-container-id-2 div.sk-item::before, #sk-container-id-2 div.sk-parallel-item::before {content: \"\";position: absolute;border-left: 1px solid gray;box-sizing: border-box;top: 0;bottom: 0;left: 50%;z-index: -1;}#sk-container-id-2 div.sk-parallel-item {display: flex;flex-direction: column;z-index: 1;position: relative;background-color: white;}#sk-container-id-2 div.sk-parallel-item:first-child::after {align-self: flex-end;width: 50%;}#sk-container-id-2 div.sk-parallel-item:last-child::after {align-self: flex-start;width: 50%;}#sk-container-id-2 div.sk-parallel-item:only-child::after {width: 0;}#sk-container-id-2 div.sk-dashed-wrapped {border: 1px dashed gray;margin: 0 0.4em 0.5em 0.4em;box-sizing: border-box;padding-bottom: 0.4em;background-color: white;}#sk-container-id-2 div.sk-label label {font-family: monospace;font-weight: bold;display: inline-block;line-height: 1.2em;}#sk-container-id-2 div.sk-label-container {text-align: center;}#sk-container-id-2 div.sk-container {/* jupyter's `normalize.less` sets `[hidden] { display: none; }` but bootstrap.min.css set `[hidden] { display: none !important; }` so we also need the `!important` here to be able to override the default hidden behavior on the sphinx rendered scikit-learn.org. See: https://github.com/scikit-learn/scikit-learn/issues/21755 */display: inline-block !important;position: relative;}#sk-container-id-2 div.sk-text-repr-fallback {display: none;}</style><div id=\"sk-container-id-2\" class=\"sk-top-container\"><div class=\"sk-text-repr-fallback\"><pre>LogisticRegression()</pre><b>In a Jupyter environment, please rerun this cell to show the HTML representation or trust the notebook. <br />On GitHub, the HTML representation is unable to render, please try loading this page with nbviewer.org.</b></div><div class=\"sk-container\" hidden><div class=\"sk-item\"><div class=\"sk-estimator sk-toggleable\"><input class=\"sk-toggleable__control sk-hidden--visually\" id=\"sk-estimator-id-2\" type=\"checkbox\" checked><label for=\"sk-estimator-id-2\" class=\"sk-toggleable__label sk-toggleable__label-arrow\">LogisticRegression</label><div class=\"sk-toggleable__content\"><pre>LogisticRegression()</pre></div></div></div></div></div>"
      ],
      "text/plain": [
       "LogisticRegression()"
      ]
     },
     "execution_count": 31,
     "metadata": {},
     "output_type": "execute_result"
    }
   ],
   "source": [
    "reg.fit(x_train,y_train)"
   ]
  },
  {
   "cell_type": "code",
   "execution_count": 32,
   "id": "cce9eedb",
   "metadata": {
    "execution": {
     "iopub.execute_input": "2024-02-28T13:26:05.541652Z",
     "iopub.status.busy": "2024-02-28T13:26:05.541091Z",
     "iopub.status.idle": "2024-02-28T13:26:05.549929Z",
     "shell.execute_reply": "2024-02-28T13:26:05.549056Z"
    },
    "papermill": {
     "duration": 0.041827,
     "end_time": "2024-02-28T13:26:05.552401",
     "exception": false,
     "start_time": "2024-02-28T13:26:05.510574",
     "status": "completed"
    },
    "tags": []
   },
   "outputs": [
    {
     "name": "stdout",
     "output_type": "stream",
     "text": [
      "accuracy score of training data is: 0.9864783653846154\n"
     ]
    }
   ],
   "source": [
    "#finding accuracy score for training data\n",
    "accuracy=reg.predict(x_train)\n",
    "accuracy_actual=accuracy_score(accuracy,y_train)\n",
    "print(\"accuracy score of training data is:\",accuracy_actual)"
   ]
  },
  {
   "cell_type": "code",
   "execution_count": 33,
   "id": "066156cd",
   "metadata": {
    "execution": {
     "iopub.execute_input": "2024-02-28T13:26:05.593328Z",
     "iopub.status.busy": "2024-02-28T13:26:05.592971Z",
     "iopub.status.idle": "2024-02-28T13:26:05.599832Z",
     "shell.execute_reply": "2024-02-28T13:26:05.599039Z"
    },
    "papermill": {
     "duration": 0.028472,
     "end_time": "2024-02-28T13:26:05.602414",
     "exception": false,
     "start_time": "2024-02-28T13:26:05.573942",
     "status": "completed"
    },
    "tags": []
   },
   "outputs": [
    {
     "name": "stdout",
     "output_type": "stream",
     "text": [
      "accuracy score of testing data is: 0.9790865384615385\n"
     ]
    }
   ],
   "source": [
    "#finding accuracy score for testing data\n",
    "accuracy_test=reg.predict(x_test)\n",
    "accuracy_actuall=accuracy_score(accuracy_test,y_test)\n",
    "print(\"accuracy score of testing data is:\",accuracy_actuall)"
   ]
  },
  {
   "cell_type": "code",
   "execution_count": 34,
   "id": "9d685a9a",
   "metadata": {
    "execution": {
     "iopub.execute_input": "2024-02-28T13:26:05.636756Z",
     "iopub.status.busy": "2024-02-28T13:26:05.635618Z",
     "iopub.status.idle": "2024-02-28T13:26:05.644426Z",
     "shell.execute_reply": "2024-02-28T13:26:05.643176Z"
    },
    "papermill": {
     "duration": 0.027015,
     "end_time": "2024-02-28T13:26:05.646744",
     "exception": false,
     "start_time": "2024-02-28T13:26:05.619729",
     "status": "completed"
    },
    "tags": []
   },
   "outputs": [
    {
     "name": "stdout",
     "output_type": "stream",
     "text": [
      "[1]\n"
     ]
    }
   ],
   "source": [
    "#making a predictive system\n",
    "input_data=x_test[-2]\n",
    "\n",
    "prediction=reg.predict(input_data)\n",
    "print(prediction)"
   ]
  },
  {
   "cell_type": "code",
   "execution_count": 35,
   "id": "7373121f",
   "metadata": {
    "execution": {
     "iopub.execute_input": "2024-02-28T13:26:05.683367Z",
     "iopub.status.busy": "2024-02-28T13:26:05.682094Z",
     "iopub.status.idle": "2024-02-28T13:26:05.689041Z",
     "shell.execute_reply": "2024-02-28T13:26:05.687780Z"
    },
    "papermill": {
     "duration": 0.028148,
     "end_time": "2024-02-28T13:26:05.691139",
     "exception": false,
     "start_time": "2024-02-28T13:26:05.662991",
     "status": "completed"
    },
    "tags": []
   },
   "outputs": [
    {
     "name": "stdout",
     "output_type": "stream",
     "text": [
      "It's a fake news\n"
     ]
    }
   ],
   "source": [
    "if prediction[0]==0:\n",
    "    print(\"It's a real news\")\n",
    "else:\n",
    "    print(\"It's a fake news\")"
   ]
  }
 ],
 "metadata": {
  "kaggle": {
   "accelerator": "none",
   "dataSources": [
    {
     "datasetId": 3279899,
     "sourceId": 5705135,
     "sourceType": "datasetVersion"
    }
   ],
   "dockerImageVersionId": 30664,
   "isGpuEnabled": false,
   "isInternetEnabled": true,
   "language": "python",
   "sourceType": "notebook"
  },
  "kernelspec": {
   "display_name": "Python 3",
   "language": "python",
   "name": "python3"
  },
  "language_info": {
   "codemirror_mode": {
    "name": "ipython",
    "version": 3
   },
   "file_extension": ".py",
   "mimetype": "text/x-python",
   "name": "python",
   "nbconvert_exporter": "python",
   "pygments_lexer": "ipython3",
   "version": "3.10.13"
  },
  "papermill": {
   "default_parameters": {},
   "duration": 63.552069,
   "end_time": "2024-02-28T13:26:06.330668",
   "environment_variables": {},
   "exception": null,
   "input_path": "__notebook__.ipynb",
   "output_path": "__notebook__.ipynb",
   "parameters": {},
   "start_time": "2024-02-28T13:25:02.778599",
   "version": "2.5.0"
  }
 },
 "nbformat": 4,
 "nbformat_minor": 5
}
